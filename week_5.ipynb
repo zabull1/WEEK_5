{
 "cells": [
  {
   "cell_type": "code",
   "execution_count": 22,
   "id": "ffe77a3e",
   "metadata": {},
   "outputs": [],
   "source": [
    "import pyspark\n",
    "from pyspark.sql import SparkSession\n",
    "from pyspark.sql import types\n",
    "from pyspark.sql import functions as F\n",
    "import pandas as pd"
   ]
  },
  {
   "cell_type": "code",
   "execution_count": 5,
   "id": "64b4f519",
   "metadata": {},
   "outputs": [
    {
     "data": {
      "text/plain": [
       "'3.3.2'"
      ]
     },
     "execution_count": 5,
     "metadata": {},
     "output_type": "execute_result"
    }
   ],
   "source": [
    "#Q1\n",
    "pyspark.__version__"
   ]
  },
  {
   "cell_type": "code",
   "execution_count": 6,
   "id": "33d54e09",
   "metadata": {
    "scrolled": true
   },
   "outputs": [],
   "source": [
    "spark = SparkSession.builder \\\n",
    "    .master(\"local[*]\") \\\n",
    "    .appName('test') \\\n",
    "    .getOrCreate()"
   ]
  },
  {
   "cell_type": "code",
   "execution_count": 8,
   "id": "8f50f1aa",
   "metadata": {},
   "outputs": [],
   "source": [
    "schema = types.StructType([\n",
    "    types.StructField('dispatching_base_num', types.StringType(), True),\n",
    "    types.StructField('pickup_datetime', types.TimestampType(), True),\n",
    "    types.StructField('dropoff_datetime', types.TimestampType(), True),\n",
    "    types.StructField('PULocationID', types.IntegerType(), True),\n",
    "    types.StructField('DOLocationID', types.IntegerType(), True),\n",
    "    types.StructField('SR_Flag', types.StringType(), True),\n",
    "    types.StructField('Affiliated_base_number', types.StringType(), True)\n",
    "])"
   ]
  },
  {
   "cell_type": "code",
   "execution_count": 9,
   "id": "d7f76c73",
   "metadata": {},
   "outputs": [],
   "source": [
    "df = spark.read \\\n",
    "    .option(\"header\", \"true\") \\\n",
    "    .schema(schema) \\\n",
    "    .csv('fhvhv_tripdata_2021-06.csv')"
   ]
  },
  {
   "cell_type": "code",
   "execution_count": 10,
   "id": "43cb2cef",
   "metadata": {},
   "outputs": [
    {
     "name": "stdout",
     "output_type": "stream",
     "text": [
      "+--------------------+-------------------+-------------------+------------+------------+-------+----------------------+\n",
      "|dispatching_base_num|    pickup_datetime|   dropoff_datetime|PULocationID|DOLocationID|SR_Flag|Affiliated_base_number|\n",
      "+--------------------+-------------------+-------------------+------------+------------+-------+----------------------+\n",
      "|              B02764|2021-06-01 00:02:41|2021-06-01 00:07:46|         174|          18|      N|                B02764|\n",
      "|              B02764|2021-06-01 00:16:16|2021-06-01 00:21:14|          32|         254|      N|                B02764|\n",
      "|              B02764|2021-06-01 00:27:01|2021-06-01 00:42:11|         240|         127|      N|                B02764|\n",
      "|              B02764|2021-06-01 00:46:08|2021-06-01 00:53:45|         127|         235|      N|                B02764|\n",
      "|              B02510|2021-06-01 00:45:42|2021-06-01 01:03:33|         144|         146|      N|                  null|\n",
      "|              B02510|2021-06-01 00:18:15|2021-06-01 00:25:47|          49|          17|      N|                  null|\n",
      "|              B02510|2021-06-01 00:33:06|2021-06-01 00:42:46|          49|         225|      N|                  null|\n",
      "|              B02510|2021-06-01 00:46:27|2021-06-01 00:56:50|         225|         177|      N|                  null|\n",
      "|              B02764|2021-06-01 00:48:06|2021-06-01 01:04:10|         209|          45|      N|                B02764|\n",
      "|              B02875|2021-06-01 00:18:54|2021-06-01 00:26:14|          80|         256|      N|                B02875|\n",
      "|              B02875|2021-06-01 00:31:02|2021-06-01 00:36:39|         217|          17|      N|                B02875|\n",
      "|              B02875|2021-06-01 00:41:53|2021-06-01 01:07:32|          17|         265|      N|                B02875|\n",
      "|              B02875|2021-06-01 00:29:52|2021-06-01 00:54:41|         210|          76|      N|                B02875|\n",
      "|              B02510|2021-06-01 00:15:57|2021-06-01 00:39:36|         226|         213|      N|                  null|\n",
      "|              B02510|2021-06-01 00:11:59|2021-06-01 00:23:32|         191|           9|      N|                  null|\n",
      "|              B02510|2021-06-01 00:30:35|2021-06-01 00:45:35|          16|         250|      N|                  null|\n",
      "|              B02510|2021-06-01 00:49:01|2021-06-01 01:03:50|         182|         259|      N|                  null|\n",
      "|              B02510|2021-06-01 00:07:36|2021-06-01 00:21:13|         188|          72|      N|                  null|\n",
      "|              B02510|2021-06-01 00:25:48|2021-06-01 00:40:43|          39|          72|      N|                  null|\n",
      "|              B02510|2021-06-01 00:46:11|2021-06-01 00:53:39|          72|          35|      N|                  null|\n",
      "+--------------------+-------------------+-------------------+------------+------------+-------+----------------------+\n",
      "only showing top 20 rows\n",
      "\n"
     ]
    }
   ],
   "source": [
    "df.show()"
   ]
  },
  {
   "cell_type": "code",
   "execution_count": 11,
   "id": "524d2d27",
   "metadata": {},
   "outputs": [],
   "source": [
    "df = df.repartition(12)"
   ]
  },
  {
   "cell_type": "code",
   "execution_count": 16,
   "id": "1fac581f",
   "metadata": {},
   "outputs": [
    {
     "name": "stderr",
     "output_type": "stream",
     "text": [
      "                                                                                \r"
     ]
    }
   ],
   "source": [
    "df.write.parquet('fhvhv/2021/06/')"
   ]
  },
  {
   "cell_type": "code",
   "execution_count": 18,
   "id": "2a8c80b8",
   "metadata": {},
   "outputs": [
    {
     "name": "stdout",
     "output_type": "stream",
     "text": [
      "total 271M\r\n",
      "-rw-r--r-- 1 aminu aminu   0 Mar  5 22:09 _SUCCESS\r\n",
      "-rw-r--r-- 1 aminu aminu 23M Mar  5 22:08 part-00000-9c35a00f-6aa2-4b3f-b6e2-04e93365f64a-c000.snappy.parquet\r\n",
      "-rw-r--r-- 1 aminu aminu 23M Mar  5 22:08 part-00001-9c35a00f-6aa2-4b3f-b6e2-04e93365f64a-c000.snappy.parquet\r\n",
      "-rw-r--r-- 1 aminu aminu 23M Mar  5 22:08 part-00002-9c35a00f-6aa2-4b3f-b6e2-04e93365f64a-c000.snappy.parquet\r\n",
      "-rw-r--r-- 1 aminu aminu 23M Mar  5 22:08 part-00003-9c35a00f-6aa2-4b3f-b6e2-04e93365f64a-c000.snappy.parquet\r\n",
      "-rw-r--r-- 1 aminu aminu 23M Mar  5 22:08 part-00004-9c35a00f-6aa2-4b3f-b6e2-04e93365f64a-c000.snappy.parquet\r\n",
      "-rw-r--r-- 1 aminu aminu 23M Mar  5 22:08 part-00005-9c35a00f-6aa2-4b3f-b6e2-04e93365f64a-c000.snappy.parquet\r\n",
      "-rw-r--r-- 1 aminu aminu 23M Mar  5 22:08 part-00006-9c35a00f-6aa2-4b3f-b6e2-04e93365f64a-c000.snappy.parquet\r\n",
      "-rw-r--r-- 1 aminu aminu 23M Mar  5 22:09 part-00007-9c35a00f-6aa2-4b3f-b6e2-04e93365f64a-c000.snappy.parquet\r\n",
      "-rw-r--r-- 1 aminu aminu 23M Mar  5 22:09 part-00008-9c35a00f-6aa2-4b3f-b6e2-04e93365f64a-c000.snappy.parquet\r\n",
      "-rw-r--r-- 1 aminu aminu 23M Mar  5 22:09 part-00009-9c35a00f-6aa2-4b3f-b6e2-04e93365f64a-c000.snappy.parquet\r\n",
      "-rw-r--r-- 1 aminu aminu 23M Mar  5 22:09 part-00010-9c35a00f-6aa2-4b3f-b6e2-04e93365f64a-c000.snappy.parquet\r\n",
      "-rw-r--r-- 1 aminu aminu 23M Mar  5 22:09 part-00011-9c35a00f-6aa2-4b3f-b6e2-04e93365f64a-c000.snappy.parquet\r\n"
     ]
    }
   ],
   "source": [
    "!ls -lh fhvhv/2021/06"
   ]
  },
  {
   "cell_type": "code",
   "execution_count": null,
   "id": "027c03b2",
   "metadata": {},
   "outputs": [],
   "source": [
    "#Q2\n",
    "#24MB"
   ]
  },
  {
   "cell_type": "code",
   "execution_count": 19,
   "id": "0c28261c",
   "metadata": {},
   "outputs": [],
   "source": [
    "df = spark.read.parquet('fhvhv/2021/06/')"
   ]
  },
  {
   "cell_type": "code",
   "execution_count": 20,
   "id": "b7e682a2",
   "metadata": {},
   "outputs": [
    {
     "name": "stdout",
     "output_type": "stream",
     "text": [
      "root\n",
      " |-- dispatching_base_num: string (nullable = true)\n",
      " |-- pickup_datetime: timestamp (nullable = true)\n",
      " |-- dropoff_datetime: timestamp (nullable = true)\n",
      " |-- PULocationID: integer (nullable = true)\n",
      " |-- DOLocationID: integer (nullable = true)\n",
      " |-- SR_Flag: string (nullable = true)\n",
      " |-- Affiliated_base_number: string (nullable = true)\n",
      "\n"
     ]
    }
   ],
   "source": [
    "df.printSchema()"
   ]
  },
  {
   "cell_type": "markdown",
   "id": "65fbc82e",
   "metadata": {},
   "source": [
    "Q3\n",
    "Count records\n",
    "\n",
    "How many taxi trips were there on June 15?\n",
    "\n",
    "Consider only trips that started on June 15.\n",
    "\n",
    "308,164\n",
    "12,856\n",
    "452,470\n",
    "50,982 "
   ]
  },
  {
   "cell_type": "code",
   "execution_count": 21,
   "id": "0e4faa50",
   "metadata": {},
   "outputs": [
    {
     "name": "stderr",
     "output_type": "stream",
     "text": [
      "                                                                                \r"
     ]
    },
    {
     "data": {
      "text/plain": [
       "452470"
      ]
     },
     "execution_count": 21,
     "metadata": {},
     "output_type": "execute_result"
    }
   ],
   "source": [
    "df.select(\"pickup_datetime\")\\\n",
    "    .filter((df.pickup_datetime >= '2021-06-15') &(df.pickup_datetime < '2021-06-16'))\\\n",
    "    .count()"
   ]
  },
  {
   "cell_type": "code",
   "execution_count": null,
   "id": "dd471a56",
   "metadata": {},
   "outputs": [],
   "source": [
    "'''\n",
    "Question 4:\n",
    "\n",
    "Longest trip for each day\n",
    "\n",
    "Now calculate the duration for each trip.\n",
    "How long was the longest trip in Hours?\n",
    "\n",
    "66.87 Hours\n",
    "243.44 Hours\n",
    "7.68 Hours\n",
    "3.32 Hours \n",
    "'''"
   ]
  },
  {
   "cell_type": "code",
   "execution_count": 23,
   "id": "45863f62",
   "metadata": {},
   "outputs": [
    {
     "name": "stderr",
     "output_type": "stream",
     "text": [
      "\r",
      "[Stage 8:>                                                          (0 + 4) / 4]\r"
     ]
    },
    {
     "name": "stdout",
     "output_type": "stream",
     "text": [
      "+----------------+\n",
      "|duration        |\n",
      "+----------------+\n",
      "|66.8788888888889|\n",
      "+----------------+\n",
      "only showing top 1 row\n",
      "\n"
     ]
    },
    {
     "name": "stderr",
     "output_type": "stream",
     "text": [
      "\r",
      "[Stage 8:==============>                                            (1 + 3) / 4]\r",
      "\r",
      "                                                                                \r"
     ]
    }
   ],
   "source": [
    "df.withColumn('duration', ( F.unix_timestamp(df.dropoff_datetime) - F.unix_timestamp(df.pickup_datetime))/3600).select('duration').sort('duration', ascending=False).show(1,truncate=False)"
   ]
  },
  {
   "cell_type": "code",
   "execution_count": 24,
   "id": "fb4017c0",
   "metadata": {},
   "outputs": [],
   "source": [
    "taxi_zones = spark.read.option(\"header\",\"true\").csv(\"taxi+_zone_lookup.csv\")"
   ]
  },
  {
   "cell_type": "code",
   "execution_count": 25,
   "id": "7640a889",
   "metadata": {},
   "outputs": [
    {
     "data": {
      "text/plain": [
       "StructType([StructField('LocationID', StringType(), True), StructField('Borough', StringType(), True), StructField('Zone', StringType(), True), StructField('service_zone', StringType(), True)])"
      ]
     },
     "execution_count": 25,
     "metadata": {},
     "output_type": "execute_result"
    }
   ],
   "source": [
    "taxi_zones.schema"
   ]
  },
  {
   "cell_type": "code",
   "execution_count": 26,
   "id": "7710ff9d",
   "metadata": {},
   "outputs": [],
   "source": [
    "taxi_zones.createOrReplaceTempView('zones')"
   ]
  },
  {
   "cell_type": "code",
   "execution_count": 27,
   "id": "6ee823b8",
   "metadata": {},
   "outputs": [
    {
     "data": {
      "text/plain": [
       "['LocationID', 'Borough', 'Zone', 'service_zone']"
      ]
     },
     "execution_count": 27,
     "metadata": {},
     "output_type": "execute_result"
    }
   ],
   "source": [
    "taxi_zones.columns"
   ]
  },
  {
   "cell_type": "code",
   "execution_count": 28,
   "id": "bc603443",
   "metadata": {},
   "outputs": [],
   "source": [
    "ts =df.join(taxi_zones, df.PULocationID == taxi_zones.LocationID)"
   ]
  },
  {
   "cell_type": "code",
   "execution_count": 30,
   "id": "56c643d3",
   "metadata": {
    "scrolled": true
   },
   "outputs": [
    {
     "name": "stderr",
     "output_type": "stream",
     "text": [
      "[Stage 15:===========================================>              (3 + 1) / 4]\r"
     ]
    },
    {
     "name": "stdout",
     "output_type": "stream",
     "text": [
      "+-------------------+------+\n",
      "|               Zone| count|\n",
      "+-------------------+------+\n",
      "|Crown Heights North|231279|\n",
      "+-------------------+------+\n",
      "only showing top 1 row\n",
      "\n"
     ]
    },
    {
     "name": "stderr",
     "output_type": "stream",
     "text": [
      "\r",
      "                                                                                \r"
     ]
    }
   ],
   "source": [
    "ts.groupby('Zone').count().sort(\"count\", ascending= False).show(1)"
   ]
  },
  {
   "cell_type": "markdown",
   "id": "046d5534",
   "metadata": {},
   "source": [
    "## METHOD B"
   ]
  },
  {
   "cell_type": "code",
   "execution_count": 31,
   "id": "b043fbb0",
   "metadata": {},
   "outputs": [],
   "source": [
    "df.createOrReplaceTempView('fhvh')"
   ]
  },
  {
   "cell_type": "code",
   "execution_count": 37,
   "id": "b86c8dd0",
   "metadata": {},
   "outputs": [],
   "source": [
    "combined_df = spark.sql(\"\"\"\n",
    "\n",
    "    SELECT * FROM fhvh\n",
    "    JOIN zones\n",
    "    ON  PULocationID = LocationID\n",
    "    \n",
    "\"\"\")"
   ]
  },
  {
   "cell_type": "code",
   "execution_count": 38,
   "id": "0ab57686",
   "metadata": {},
   "outputs": [],
   "source": [
    "combined_df.createOrReplaceTempView('combined')"
   ]
  },
  {
   "cell_type": "code",
   "execution_count": 39,
   "id": "b269c4db",
   "metadata": {},
   "outputs": [
    {
     "name": "stdout",
     "output_type": "stream",
     "text": [
      "+--------------------+-------------------+-------------------+------------+------------+-------+----------------------+----------+-------------+--------------------+------------+\n",
      "|dispatching_base_num|    pickup_datetime|   dropoff_datetime|PULocationID|DOLocationID|SR_Flag|Affiliated_base_number|LocationID|      Borough|                Zone|service_zone|\n",
      "+--------------------+-------------------+-------------------+------------+------------+-------+----------------------+----------+-------------+--------------------+------------+\n",
      "|              B02617|2021-06-04 16:50:34|2021-06-04 17:01:18|         118|         109|      N|                B02617|       118|Staten Island|Heartland Village...|   Boro Zone|\n",
      "|              B02875|2021-06-02 22:28:45|2021-06-02 22:37:28|         163|          79|      N|                B02875|       163|    Manhattan|       Midtown North| Yellow Zone|\n",
      "|              B02871|2021-06-03 11:47:48|2021-06-03 11:52:23|         231|          13|      N|                B02871|       231|    Manhattan|TriBeCa/Civic Center| Yellow Zone|\n",
      "|              B02888|2021-06-03 08:45:25|2021-06-03 09:00:12|           9|          92|      N|                B02888|         9|       Queens|          Auburndale|   Boro Zone|\n",
      "|              B02510|2021-06-05 09:50:43|2021-06-05 10:06:53|          14|         133|      N|                  null|        14|     Brooklyn|           Bay Ridge|   Boro Zone|\n",
      "|              B02764|2021-06-03 22:55:50|2021-06-03 23:21:24|         152|          74|      N|                B02764|       152|    Manhattan|      Manhattanville|   Boro Zone|\n",
      "|              B02889|2021-06-02 03:15:48|2021-06-02 03:26:20|         220|         235|      N|                B02889|       220|        Bronx|Spuyten Duyvil/Ki...|   Boro Zone|\n",
      "|              B02872|2021-06-01 11:50:42|2021-06-01 12:00:36|         162|         161|      N|                B02872|       162|    Manhattan|        Midtown East| Yellow Zone|\n",
      "|              B02510|2021-06-04 06:51:45|2021-06-04 06:56:26|         206|         206|      N|                  null|       206|Staten Island|Saint George/New ...|   Boro Zone|\n",
      "|              B02835|2021-06-02 01:21:31|2021-06-02 01:50:23|          49|         182|      N|                B02835|        49|     Brooklyn|        Clinton Hill|   Boro Zone|\n",
      "|              B02510|2021-06-02 17:11:31|2021-06-02 18:18:32|         236|          89|      N|                  null|       236|    Manhattan|Upper East Side N...| Yellow Zone|\n",
      "|              B02869|2021-06-01 18:48:20|2021-06-01 18:54:59|         151|          43|      N|                B02869|       151|    Manhattan|    Manhattan Valley| Yellow Zone|\n",
      "|              B02510|2021-06-02 16:16:53|2021-06-02 16:39:03|         181|         189|      N|                  null|       181|     Brooklyn|          Park Slope|   Boro Zone|\n",
      "|              B02510|2021-06-03 21:23:35|2021-06-03 21:33:33|         181|          89|      N|                  null|       181|     Brooklyn|          Park Slope|   Boro Zone|\n",
      "|              B02764|2021-06-01 06:51:24|2021-06-01 06:58:09|          86|          86|      N|                B02764|        86|       Queens|        Far Rockaway|   Boro Zone|\n",
      "|              B02867|2021-06-04 18:26:09|2021-06-04 18:41:43|         162|         263|      N|                B02867|       162|    Manhattan|        Midtown East| Yellow Zone|\n",
      "|              B02510|2021-06-01 10:21:49|2021-06-01 11:08:24|         151|          17|      N|                  null|       151|    Manhattan|    Manhattan Valley| Yellow Zone|\n",
      "|              B02682|2021-06-04 01:45:17|2021-06-04 01:53:16|         125|         164|      N|                B02682|       125|    Manhattan|           Hudson Sq| Yellow Zone|\n",
      "|              B02875|2021-06-01 14:06:42|2021-06-01 14:33:53|         192|           7|      N|                B02875|       192|       Queens|     Queensboro Hill|   Boro Zone|\n",
      "|              B02510|2021-06-03 21:15:15|2021-06-03 21:21:24|         171|          16|      N|                  null|       171|       Queens|  Murray Hill-Queens|   Boro Zone|\n",
      "+--------------------+-------------------+-------------------+------------+------------+-------+----------------------+----------+-------------+--------------------+------------+\n",
      "only showing top 20 rows\n",
      "\n"
     ]
    }
   ],
   "source": [
    "combined_df.show()"
   ]
  },
  {
   "cell_type": "code",
   "execution_count": 41,
   "id": "15c349b9",
   "metadata": {},
   "outputs": [
    {
     "name": "stderr",
     "output_type": "stream",
     "text": [
      "\r",
      "[Stage 28:>                                                         (0 + 4) / 4]\r"
     ]
    },
    {
     "name": "stdout",
     "output_type": "stream",
     "text": [
      "+-------------------+------+\n",
      "|               ZOne| count|\n",
      "+-------------------+------+\n",
      "|Crown Heights North|231279|\n",
      "+-------------------+------+\n",
      "\n"
     ]
    },
    {
     "name": "stderr",
     "output_type": "stream",
     "text": [
      "\r",
      "[Stage 28:==============>                                           (1 + 3) / 4]\r",
      "\r",
      "                                                                                \r"
     ]
    }
   ],
   "source": [
    "spark.sql(\"\"\"\n",
    "    SELECT ZOne, count(1) as count FROM combined\n",
    "    GROUP BY ZOne\n",
    "    ORDER BY count DESC\n",
    "    LIMIT 1\n",
    " \n",
    "\"\"\").show()"
   ]
  }
 ],
 "metadata": {
  "kernelspec": {
   "display_name": "Python 3 (ipykernel)",
   "language": "python",
   "name": "python3"
  },
  "language_info": {
   "codemirror_mode": {
    "name": "ipython",
    "version": 3
   },
   "file_extension": ".py",
   "mimetype": "text/x-python",
   "name": "python",
   "nbconvert_exporter": "python",
   "pygments_lexer": "ipython3",
   "version": "3.9.13"
  }
 },
 "nbformat": 4,
 "nbformat_minor": 5
}
